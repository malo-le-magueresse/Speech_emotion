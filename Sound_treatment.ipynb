{
 "cells": [
  {
   "cell_type": "code",
   "execution_count": 6,
   "metadata": {},
   "outputs": [
    {
     "name": "stdout",
     "output_type": "stream",
     "text": [
      "exporting chunk0.wav\n",
      "exporting chunk1.wav\n",
      "exporting chunk2.wav\n",
      "exporting chunk3.wav\n",
      "exporting chunk4.wav\n",
      "exporting chunk5.wav\n",
      "exporting chunk6.wav\n",
      "exporting chunk7.wav\n",
      "exporting chunk8.wav\n",
      "exporting chunk9.wav\n",
      "exporting chunk10.wav\n",
      "exporting chunk11.wav\n",
      "exporting chunk12.wav\n",
      "exporting chunk13.wav\n",
      "exporting chunk14.wav\n",
      "exporting chunk15.wav\n",
      "exporting chunk16.wav\n",
      "exporting chunk17.wav\n",
      "exporting chunk18.wav\n",
      "exporting chunk19.wav\n",
      "exporting chunk20.wav\n",
      "exporting chunk21.wav\n",
      "exporting chunk22.wav\n",
      "exporting chunk23.wav\n",
      "exporting chunk24.wav\n",
      "exporting chunk25.wav\n",
      "exporting chunk26.wav\n",
      "exporting chunk27.wav\n",
      "exporting chunk28.wav\n",
      "exporting chunk29.wav\n",
      "exporting chunk30.wav\n",
      "exporting chunk31.wav\n",
      "exporting chunk32.wav\n"
     ]
    }
   ],
   "source": [
    "from pydub import AudioSegment\n",
    "from pydub.silence import split_on_silence\n",
    "import os\n",
    "\n",
    "notebook_path = os.path.abspath(\"Speech_emotion_recognition.ipynb\")\n",
    "BOSpeeches = os.path.dirname(notebook_path)+\"/BOSpeeches.wav\"\n",
    "\n",
    " \n",
    "sound_file = AudioSegment.from_wav(BOSpeeches)\n",
    "sound_file = sound_file.set_channels(1)\n",
    "audio_chunks = split_on_silence(sound_file, min_silence_len=500, silence_thresh=-40 )\n",
    " \n",
    "for i, chunk in enumerate(audio_chunks):\n",
    "   out_file = \"chunk{0}.wav\".format(i)\n",
    "   print(\"exporting\", out_file)\n",
    "   chunk.export(out_file, format=\"wav\")"
   ]
  },
  {
   "cell_type": "code",
   "execution_count": null,
   "metadata": {},
   "outputs": [],
   "source": []
  }
 ],
 "metadata": {
  "kernelspec": {
   "display_name": "Python 3",
   "language": "python",
   "name": "python3"
  },
  "language_info": {
   "codemirror_mode": {
    "name": "ipython",
    "version": 3
   },
   "file_extension": ".py",
   "mimetype": "text/x-python",
   "name": "python",
   "nbconvert_exporter": "python",
   "pygments_lexer": "ipython3",
   "version": "3.8.5"
  }
 },
 "nbformat": 4,
 "nbformat_minor": 4
}

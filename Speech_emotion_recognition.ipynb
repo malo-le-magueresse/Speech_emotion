{
 "cells": [
  {
   "cell_type": "markdown",
   "metadata": {},
   "source": [
    "# 1. Imports"
   ]
  },
  {
   "cell_type": "markdown",
   "metadata": {},
   "source": [
    "## 1.1. Libraries"
   ]
  },
  {
   "cell_type": "code",
   "execution_count": 1,
   "metadata": {},
   "outputs": [],
   "source": [
    "import librosa\n",
    "import soundfile\n",
    "import os, glob, pickle\n",
    "import numpy as np\n",
    "from sklearn.model_selection import train_test_split\n",
    "from sklearn.neural_network import MLPClassifier\n",
    "from sklearn.metrics import accuracy_score\n",
    "from sklearn.metrics import confusion_matrix\n",
    "from sklearn.metrics import plot_confusion_matrix\n",
    "import matplotlib.pyplot as plt"
   ]
  },
  {
   "cell_type": "markdown",
   "metadata": {},
   "source": [
    "## 1.2. Import files"
   ]
  },
  {
   "cell_type": "code",
   "execution_count": 2,
   "metadata": {},
   "outputs": [],
   "source": [
    "notebook_path = os.path.abspath(\"Speech_emotion_recognition.ipynb\")\n",
    "notebook_folder = os.path.dirname(notebook_path)\n",
    "datasets_1_path = os.path.join(os.path.dirname(notebook_path), \"Audio_Speech_Actors_01-24/\")\n",
    "datasets_2_path = os.path.join(os.path.dirname(notebook_path), \"Audio_Song_Actors_01-24/\")"
   ]
  },
  {
   "cell_type": "markdown",
   "metadata": {},
   "source": [
    "# 2. Data preparation"
   ]
  },
  {
   "cell_type": "code",
   "execution_count": 3,
   "metadata": {},
   "outputs": [],
   "source": [
    "# Defining a function, taking as inputs: a sound file, and booleans that indicates information to extract from the file, if needed.\n",
    "\n",
    "def extract_feature(filename,mfcc,chroma,mel):\n",
    "    \"\"\" Extract features from a soundfile - including Mel-frequency cepstral coefficients (MFCCs),/\n",
    "    chromagram, mel-scaled spectrogram\"\"\"\n",
    "    \n",
    "    with soundfile.SoundFile(filename) as sound_file:\n",
    "        X = sound_file.read(dtype = \"float32\")\n",
    "        #sound_file = AudioSegment.from_wav(BOSpeeches)\n",
    "        #sound_file = sound_file.set_channels(1)\n",
    "\n",
    "        sample_rate = sound_file.samplerate\n",
    "        \n",
    "        if chroma:\n",
    "            short_term_fourier_transform = np.abs(librosa.stft(X))\n",
    "        result = np.array([])\n",
    "        if mfcc:\n",
    "            res1 = np.mean(librosa.feature.mfcc(y = X, sr = sample_rate, n_mfcc = 40).T, axis = 0)\n",
    "            result = np.hstack((result,res1))\n",
    "        if chroma:\n",
    "            res2 = np.mean(librosa.feature.chroma_stft(S = short_term_fourier_transform, sr = sample_rate).T,axis = 0)\n",
    "            result = np.hstack((result, res2))\n",
    "        if mel:\n",
    "            res3 = np.mean(librosa.feature.melspectrogram(y = X, sr = sample_rate).T,axis = 0)\n",
    "            result = np.hstack((result, res3))\n",
    "        return result"
   ]
  },
  {
   "cell_type": "code",
   "execution_count": 4,
   "metadata": {},
   "outputs": [],
   "source": [
    "# Emotions correspondance with the name of the files. E.g., neutral emotions would be linked with the code \"01\".\n",
    "emotions = {\n",
    "    \"01\":\"neutral\",\n",
    "    \"02\":\"calm\",\n",
    "    \"03\":\"happy\",\n",
    "    \"04\":\"sad\",\n",
    "    \"05\":\"angry\",\n",
    "    \"06\":\"fearful\",\n",
    "    \"07\":\"disgust\",\n",
    "    \"08\":\"surprised\"\n",
    "}\n",
    "\n",
    "# Emotions to observe - useful to only select a few\n",
    "observed_emotions = [\"neutral\",\"calm\",\"happy\",\"sad\",\"angry\",\"fearful\",\"disgust\",\"surprised\"]"
   ]
  },
  {
   "cell_type": "code",
   "execution_count": 5,
   "metadata": {},
   "outputs": [],
   "source": [
    "# Load the data and extract features for each sound file\n",
    "\n",
    "def load_data(test_size=0.2):\n",
    "    \"\"\" Load data from speech and songs files playing the specified emotions - and return train / test datasets,/\n",
    "    based on the specified test size.\"\"\"\n",
    "    x,y=[],[]\n",
    "    \n",
    "    for file in glob.glob(datasets_1_path+\"/Actor_*/*.wav\"): # Speeches\n",
    "        file_name = os.path.basename(file)\n",
    "        emotion = emotions[file_name.split(\"-\")[2]]\n",
    "        if emotion not in observed_emotions:\n",
    "            continue\n",
    "        try:\n",
    "            feature = extract_feature(file, mfcc = True, chroma = True, mel = True)\n",
    "            x.append(feature)\n",
    "            y.append(emotion)\n",
    "        except:\n",
    "            print(file_name)\n",
    "    \n",
    "    for file in glob.glob(datasets_2_path+\"/Actor_*/*.wav\"): # Songs\n",
    "        file_name = os.path.basename(file)\n",
    "        emotion = emotions[file_name.split(\"-\")[2]]\n",
    "        if emotion not in observed_emotions:\n",
    "            continue\n",
    "        try:\n",
    "            feature = extract_feature(file, mfcc = True, chroma = True, mel = True)\n",
    "            x.append(feature)\n",
    "            y.append(emotion)\n",
    "        except:\n",
    "            print(file_name)\n",
    "        \n",
    "    return train_test_split(np.array(x), y, test_size=test_size, random_state=0)"
   ]
  },
  {
   "cell_type": "code",
   "execution_count": 6,
   "metadata": {
    "scrolled": true
   },
   "outputs": [
    {
     "name": "stdout",
     "output_type": "stream",
     "text": [
      "03-01-06-01-01-02-20.wav\n",
      "03-01-03-01-02-01-20.wav\n",
      "03-01-02-01-02-02-05.wav\n",
      "03-01-02-01-01-02-01.wav\n",
      "03-01-08-01-02-02-01.wav\n",
      "03-02-01-01-01-01-24.wav\n"
     ]
    }
   ],
   "source": [
    "# Split the dataset\n",
    "x_train,x_test,y_train,y_test=load_data(test_size=0.25)"
   ]
  },
  {
   "cell_type": "markdown",
   "metadata": {},
   "source": [
    "### Sanity checks"
   ]
  },
  {
   "cell_type": "code",
   "execution_count": 7,
   "metadata": {},
   "outputs": [
    {
     "data": {
      "text/plain": [
       "(1834, 180)"
      ]
     },
     "execution_count": 7,
     "metadata": {},
     "output_type": "execute_result"
    }
   ],
   "source": [
    "x_train.shape"
   ]
  },
  {
   "cell_type": "code",
   "execution_count": 8,
   "metadata": {},
   "outputs": [
    {
     "data": {
      "text/plain": [
       "1834"
      ]
     },
     "execution_count": 8,
     "metadata": {},
     "output_type": "execute_result"
    }
   ],
   "source": [
    "len(y_train)"
   ]
  },
  {
   "cell_type": "markdown",
   "metadata": {},
   "source": [
    "# 3. Model building"
   ]
  },
  {
   "cell_type": "markdown",
   "metadata": {},
   "source": [
    "## 3.1. Finding the best parameters"
   ]
  },
  {
   "cell_type": "code",
   "execution_count": 9,
   "metadata": {},
   "outputs": [
    {
     "ename": "NameError",
     "evalue": "name 'model' is not defined",
     "output_type": "error",
     "traceback": [
      "\u001b[0;31m---------------------------------------------------------------------------\u001b[0m",
      "\u001b[0;31mNameError\u001b[0m                                 Traceback (most recent call last)",
      "\u001b[0;32m<ipython-input-9-4a5f55714fce>\u001b[0m in \u001b[0;36m<module>\u001b[0;34m\u001b[0m\n\u001b[1;32m     13\u001b[0m \u001b[0;32mfrom\u001b[0m \u001b[0msklearn\u001b[0m\u001b[0;34m.\u001b[0m\u001b[0mmodel_selection\u001b[0m \u001b[0;32mimport\u001b[0m \u001b[0mGridSearchCV\u001b[0m\u001b[0;34m\u001b[0m\u001b[0;34m\u001b[0m\u001b[0m\n\u001b[1;32m     14\u001b[0m \u001b[0;34m\u001b[0m\u001b[0m\n\u001b[0;32m---> 15\u001b[0;31m \u001b[0mclf\u001b[0m \u001b[0;34m=\u001b[0m \u001b[0mGridSearchCV\u001b[0m\u001b[0;34m(\u001b[0m\u001b[0mmodel\u001b[0m\u001b[0;34m,\u001b[0m \u001b[0mparameter_space\u001b[0m\u001b[0;34m,\u001b[0m \u001b[0mn_jobs\u001b[0m\u001b[0;34m=\u001b[0m\u001b[0;34m-\u001b[0m\u001b[0;36m1\u001b[0m\u001b[0;34m,\u001b[0m \u001b[0mcv\u001b[0m\u001b[0;34m=\u001b[0m\u001b[0;36m5\u001b[0m\u001b[0;34m)\u001b[0m\u001b[0;34m\u001b[0m\u001b[0;34m\u001b[0m\u001b[0m\n\u001b[0m\u001b[1;32m     16\u001b[0m \u001b[0;34m\u001b[0m\u001b[0m\n\u001b[1;32m     17\u001b[0m \u001b[0mclf\u001b[0m\u001b[0;34m.\u001b[0m\u001b[0mfit\u001b[0m\u001b[0;34m(\u001b[0m\u001b[0mx_train\u001b[0m\u001b[0;34m,\u001b[0m \u001b[0my_train\u001b[0m\u001b[0;34m)\u001b[0m\u001b[0;34m\u001b[0m\u001b[0;34m\u001b[0m\u001b[0m\n",
      "\u001b[0;31mNameError\u001b[0m: name 'model' is not defined"
     ]
    }
   ],
   "source": [
    "model_test = MLPClassifier(max_iter=500)\n",
    "\n",
    "parameter_space = {\n",
    "    \"hidden_layer_sizes\": [(300,),(100,),(300,200,400),(180,),(360,180,360)],\n",
    "    #\"activation\": [\"tanh\", \"relu\",\"logistic\",\"identity\"],\n",
    "    \"solver\": [\"adam\"],\n",
    "    #\"alpha\": [1e-08, 1e-09, 1e-07],\n",
    "    \"batch_size\": [128,256,512],\n",
    "    #\"learning_rate\": [\"constant\" ,\"adaptive\",\"invscaling\"],\n",
    "    \"learning_rate\": [\"constant\"],\n",
    "}\n",
    "\n",
    "from sklearn.model_selection import GridSearchCV\n",
    "\n",
    "clf = GridSearchCV(model, parameter_space, n_jobs=-1, cv=5)\n",
    "\n",
    "clf.fit(x_train, y_train)\n",
    "\n",
    "print('Best parameters found:\\n', clf.best_params_)"
   ]
  },
  {
   "cell_type": "markdown",
   "metadata": {},
   "source": [
    "## 3.2. Setting the model"
   ]
  },
  {
   "cell_type": "code",
   "execution_count": null,
   "metadata": {},
   "outputs": [],
   "source": [
    "model = MLPClassifier(batch_size = 128, solver = \"adam\", alpha = 1e-08, \n",
    "                      hidden_layer_sizes = (360,180,360), learning_rate = 'constant', max_iter = 1000)"
   ]
  },
  {
   "cell_type": "code",
   "execution_count": null,
   "metadata": {},
   "outputs": [],
   "source": [
    "model.fit(x_train,y_train)"
   ]
  },
  {
   "cell_type": "code",
   "execution_count": null,
   "metadata": {},
   "outputs": [],
   "source": [
    "y_pred = model.predict(x_test)"
   ]
  },
  {
   "cell_type": "markdown",
   "metadata": {},
   "source": [
    "## 3.3. Visualizing results"
   ]
  },
  {
   "cell_type": "code",
   "execution_count": null,
   "metadata": {},
   "outputs": [],
   "source": [
    "# Calculate the accuracy of our model\n",
    "accuracy = accuracy_score(y_true = y_test, y_pred = y_pred)\n",
    "# Print the accuracy\n",
    "print(\"Accuracy: {:.3f}%\".format(accuracy*100))"
   ]
  },
  {
   "cell_type": "code",
   "execution_count": null,
   "metadata": {},
   "outputs": [],
   "source": [
    "disp = plot_confusion_matrix(model, x_test, y_test,\n",
    "                            display_labels = observed_emotions,\n",
    "                            cmap = plt.cm.Blues,\n",
    "                            normalize = \"true\")\n",
    "plt.xticks(rotation=90)\n",
    "plt.show()"
   ]
  },
  {
   "cell_type": "markdown",
   "metadata": {},
   "source": [
    "## 3.4. Exporting the model"
   ]
  },
  {
   "cell_type": "code",
   "execution_count": null,
   "metadata": {},
   "outputs": [],
   "source": [
    "# save the model to disk\n",
    "filename = 'finalized_model.sav'\n",
    "pickle.dump(model, open(filename, 'wb'))"
   ]
  },
  {
   "cell_type": "markdown",
   "metadata": {},
   "source": [
    "# 4. Using the trained model to make predictions on new data."
   ]
  },
  {
   "cell_type": "code",
   "execution_count": null,
   "metadata": {},
   "outputs": [],
   "source": [
    "# load the model from disk\n",
    "loaded_model = pickle.load(open(filename, 'rb'))\n",
    "result = loaded_model.score(x_test, y_test)\n",
    "print(result)"
   ]
  },
  {
   "cell_type": "code",
   "execution_count": null,
   "metadata": {},
   "outputs": [],
   "source": [
    "def test_model(folder):\n",
    "    \"\"\" Will test the model on clips present inside the specified folder.\"\"\"\n",
    "    x=[]\n",
    "    for file in glob.glob(folder+\"/chunk*.wav\"):\n",
    "        file_name = os.path.basename(file)\n",
    "        try:\n",
    "            feature = extract_feature(file, mfcc=True, chroma=True, mel=True)\n",
    "            x.append(feature)\n",
    "        except:\n",
    "            print(file_name)\n",
    "    return x"
   ]
  },
  {
   "cell_type": "code",
   "execution_count": null,
   "metadata": {},
   "outputs": [],
   "source": [
    "x_bospeech = test_model(notebook_folder)"
   ]
  },
  {
   "cell_type": "code",
   "execution_count": null,
   "metadata": {},
   "outputs": [],
   "source": [
    "y_bospeech=loaded_model.predict(x_bospeech)"
   ]
  },
  {
   "cell_type": "code",
   "execution_count": null,
   "metadata": {},
   "outputs": [],
   "source": [
    "y_bospeech"
   ]
  },
  {
   "cell_type": "code",
   "execution_count": null,
   "metadata": {},
   "outputs": [],
   "source": [
    "plt.hist(y_bospeech)"
   ]
  }
 ],
 "metadata": {
  "kernelspec": {
   "display_name": "Python 3",
   "language": "python",
   "name": "python3"
  },
  "language_info": {
   "codemirror_mode": {
    "name": "ipython",
    "version": 3
   },
   "file_extension": ".py",
   "mimetype": "text/x-python",
   "name": "python",
   "nbconvert_exporter": "python",
   "pygments_lexer": "ipython3",
   "version": "3.8.5"
  }
 },
 "nbformat": 4,
 "nbformat_minor": 4
}
